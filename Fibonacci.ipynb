{
 "cells": [
  {
   "cell_type": "code",
   "execution_count": 13,
   "id": "73a21e6c-3c2d-4ffc-81bb-3f0ec26bbf1f",
   "metadata": {
    "tags": []
   },
   "outputs": [
    {
     "name": "stdin",
     "output_type": "stream",
     "text": [
      "Escolha um numero: 5\n"
     ]
    },
    {
     "name": "stdout",
     "output_type": "stream",
     "text": [
      "O resultado final é: 120\n"
     ]
    }
   ],
   "source": [
    "# Fibonacci\n",
    "\n",
    "numero = int(input('Escolha um numero:'))\n",
    "resultado = int(numero)\n",
    "\n",
    "while(numero > 1):\n",
    "    resultado = resultado * (numero - 1)\n",
    "    numero -= 1;\n",
    "print(f\"O resultado final é: {resultado}\")"
   ]
  },
  {
   "cell_type": "code",
   "execution_count": null,
   "id": "956d8699-74f6-455e-b3ac-fd8860b2754a",
   "metadata": {},
   "outputs": [],
   "source": []
  }
 ],
 "metadata": {
  "kernelspec": {
   "display_name": "Python 3 (ipykernel)",
   "language": "python",
   "name": "python3"
  },
  "language_info": {
   "codemirror_mode": {
    "name": "ipython",
    "version": 3
   },
   "file_extension": ".py",
   "mimetype": "text/x-python",
   "name": "python",
   "nbconvert_exporter": "python",
   "pygments_lexer": "ipython3",
   "version": "3.10.9"
  }
 },
 "nbformat": 4,
 "nbformat_minor": 5
}
